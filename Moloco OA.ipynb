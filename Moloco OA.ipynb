{
 "cells": [
  {
   "cell_type": "code",
   "execution_count": 1,
   "metadata": {},
   "outputs": [],
   "source": [
    "#Import packages and load data. \n",
    "import pandas as pd\n",
    "import datetime\n",
    "import numpy as np\n",
    "df = pd.read_csv('SWE sample data - Q3 data.csv')"
   ]
  },
  {
   "cell_type": "markdown",
   "metadata": {},
   "source": [
    "# 1"
   ]
  },
  {
   "cell_type": "code",
   "execution_count": 2,
   "metadata": {
    "scrolled": true
   },
   "outputs": [
    {
     "data": {
      "text/plain": [
       "site_id\n",
       "3POLC      2\n",
       "5NPAU    544\n",
       "N0OTG     90\n",
       "Name: user_id, dtype: int64"
      ]
     },
     "execution_count": 2,
     "metadata": {},
     "output_type": "execute_result"
    }
   ],
   "source": [
    "#Get data with country_id BDV.\n",
    "df_temp = df['country_id'] == 'BDV'\n",
    "df_1 = df[df_temp]\n",
    "#Group by site_id and count the unique number of users.\n",
    "df_1.groupby(['site_id']).user_id.nunique()"
   ]
  },
  {
   "cell_type": "markdown",
   "metadata": {},
   "source": [
    "# 2"
   ]
  },
  {
   "cell_type": "code",
   "execution_count": 3,
   "metadata": {},
   "outputs": [
    {
     "data": {
      "text/html": [
       "<div>\n",
       "<style scoped>\n",
       "    .dataframe tbody tr th:only-of-type {\n",
       "        vertical-align: middle;\n",
       "    }\n",
       "\n",
       "    .dataframe tbody tr th {\n",
       "        vertical-align: top;\n",
       "    }\n",
       "\n",
       "    .dataframe thead th {\n",
       "        text-align: right;\n",
       "    }\n",
       "</style>\n",
       "<table border=\"1\" class=\"dataframe\">\n",
       "  <thead>\n",
       "    <tr style=\"text-align: right;\">\n",
       "      <th></th>\n",
       "      <th></th>\n",
       "      <th>ts</th>\n",
       "      <th>country_id</th>\n",
       "    </tr>\n",
       "    <tr>\n",
       "      <th>user_id</th>\n",
       "      <th>site_id</th>\n",
       "      <th></th>\n",
       "      <th></th>\n",
       "    </tr>\n",
       "  </thead>\n",
       "  <tbody>\n",
       "    <tr>\n",
       "      <th>LC3C7E</th>\n",
       "      <th>3POLC</th>\n",
       "      <td>15</td>\n",
       "      <td>15</td>\n",
       "    </tr>\n",
       "    <tr>\n",
       "      <th>LC3C9D</th>\n",
       "      <th>N0OTG</th>\n",
       "      <td>17</td>\n",
       "      <td>17</td>\n",
       "    </tr>\n",
       "    <tr>\n",
       "      <th>LC06C3</th>\n",
       "      <th>N0OTG</th>\n",
       "      <td>25</td>\n",
       "      <td>25</td>\n",
       "    </tr>\n",
       "    <tr>\n",
       "      <th>LC3A59</th>\n",
       "      <th>N0OTG</th>\n",
       "      <td>26</td>\n",
       "      <td>26</td>\n",
       "    </tr>\n",
       "  </tbody>\n",
       "</table>\n",
       "</div>"
      ],
      "text/plain": [
       "                 ts  country_id\n",
       "user_id site_id                \n",
       "LC3C7E  3POLC    15          15\n",
       "LC3C9D  N0OTG    17          17\n",
       "LC06C3  N0OTG    25          25\n",
       "LC3A59  N0OTG    26          26"
      ]
     },
     "execution_count": 3,
     "metadata": {},
     "output_type": "execute_result"
    }
   ],
   "source": [
    "#Change string values to time stemps.\n",
    "df['ts'] = pd.to_datetime(df['ts'])\n",
    "#Using mask to find data in between the given time and obtain the dataframe within the given time period.\n",
    "mask = (df['ts'] >= '2019-02-03') & (df['ts'] < '2019-02-05')\n",
    "df_2 = df.loc[mask]\n",
    "#Group by user_id and _site_id, and count numbers of visit. Finally sort by counts and pick the top four.\n",
    "df_2.groupby(['user_id','site_id']).count().sort_values(by = ['ts']).tail(4)"
   ]
  },
  {
   "cell_type": "markdown",
   "metadata": {},
   "source": [
    "# 3"
   ]
  },
  {
   "cell_type": "code",
   "execution_count": 4,
   "metadata": {},
   "outputs": [
    {
     "data": {
      "text/plain": [
       "site_id\n",
       "5NPAU    992\n",
       "N0OTG    561\n",
       "QGO3G    289\n",
       "GVOFK     42\n",
       "3POLC     28\n",
       "RT9Z6      2\n",
       "JSUUP      1\n",
       "EUZ/Q      1\n",
       "Name: user_id, dtype: int64"
      ]
     },
     "execution_count": 4,
     "metadata": {},
     "output_type": "execute_result"
    }
   ],
   "source": [
    "#Using mask to find last visit of each user_id and obtain the dataframe with all last visit information.\n",
    "mask_3 = df.groupby(['user_id']).ts.transform(max) == df['ts']\n",
    "df_3 = df[mask_3]\n",
    "#Group by site_id and count number of users visit them. Since we grouped by before, they are already unique data. \n",
    "df_3.groupby(['site_id']).user_id.nunique().sort_values(ascending=False)"
   ]
  },
  {
   "cell_type": "markdown",
   "metadata": {},
   "source": [
    "# 4"
   ]
  },
  {
   "cell_type": "code",
   "execution_count": 5,
   "metadata": {
    "scrolled": true
   },
   "outputs": [
    {
     "data": {
      "text/plain": [
       "1670"
      ]
     },
     "execution_count": 5,
     "metadata": {},
     "output_type": "execute_result"
    }
   ],
   "source": [
    "#Using mask to find first visit of each user_id and obtain the dataframe with all fisrt visit information.\n",
    "mask_4 = df.groupby(['user_id']).ts.transform(min) == df['ts']\n",
    "df_4 = df[mask_4]\n",
    "df_4 = df_4.rename(columns={\"ts\": \"ts_f\", \"site_id\": \"site_id_f\"})\n",
    "#Concate last visit dataframe and first visit dataframe.\n",
    "df_4 = df_4.sort_values(['user_id']).reset_index().drop(columns=['index'])\n",
    "df_3 = df_3.sort_values(['user_id']).reset_index().drop(columns=['index'])\n",
    "df_4['site_id_l'] = df_3['site_id']\n",
    "#Count number of users that have same first visit and last visit.\n",
    "mask_4 = df_4['site_id_f'] == df_4['site_id_l']\n",
    "sum(mask_4)"
   ]
  },
  {
   "cell_type": "code",
   "execution_count": null,
   "metadata": {},
   "outputs": [],
   "source": []
  }
 ],
 "metadata": {
  "kernelspec": {
   "display_name": "Python 3",
   "language": "python",
   "name": "python3"
  },
  "language_info": {
   "codemirror_mode": {
    "name": "ipython",
    "version": 3
   },
   "file_extension": ".py",
   "mimetype": "text/x-python",
   "name": "python",
   "nbconvert_exporter": "python",
   "pygments_lexer": "ipython3",
   "version": "3.6.5"
  }
 },
 "nbformat": 4,
 "nbformat_minor": 2
}
